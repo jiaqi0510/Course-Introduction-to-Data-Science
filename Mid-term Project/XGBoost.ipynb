{
 "cells": [
  {
   "cell_type": "markdown",
   "metadata": {},
   "source": [
    "导入相关包"
   ]
  },
  {
   "cell_type": "code",
   "execution_count": 1,
   "metadata": {},
   "outputs": [],
   "source": [
    "import numpy as np \n",
    "import pandas as pd\n",
    "import matplotlib.pyplot as plt\n",
    "import seaborn as sns"
   ]
  },
  {
   "cell_type": "code",
   "execution_count": 2,
   "metadata": {},
   "outputs": [],
   "source": [
    "import warnings\n",
    "warnings.filterwarnings('ignore')"
   ]
  },
  {
   "cell_type": "code",
   "execution_count": 3,
   "metadata": {},
   "outputs": [],
   "source": [
    "from xgboost import XGBClassifier\n",
    "from sklearn.feature_extraction.text import TfidfVectorizer\n",
    "from sklearn.model_selection import train_test_split\n",
    "from sklearn.feature_extraction.text import CountVectorizer\n",
    "from sklearn.metrics import classification_report, accuracy_score, confusion_matrix, precision_score, recall_score, f1_score"
   ]
  },
  {
   "cell_type": "markdown",
   "metadata": {},
   "source": [
    "读取数据"
   ]
  },
  {
   "cell_type": "code",
   "execution_count": 6,
   "metadata": {},
   "outputs": [],
   "source": [
    "train=pd.read_csv('E:/course/大三秋/数据科学导引/input/train.tsv', sep='\\t',dtype={\"index\":int,\"sentence\":int,\"phrase\":str,\"sentiment\":int})\n",
    "test=pd.read_csv('E:/course/大三秋/数据科学导引/input/test.tsv', sep='\\t',dtype={\"index\":int,\"sentence\":int,\"phrase\":str,\"sentiment\":int})\n",
    "sample_sub = pd.read_csv('E:/course/大三秋/数据科学导引/input/sampleSubmission.csv',dtype={\"index\":int,\"sentence\":int,\"phrase\":str,\"sentiment\":int})"
   ]
  },
  {
   "cell_type": "markdown",
   "metadata": {},
   "source": [
    "查看数据情况"
   ]
  },
  {
   "cell_type": "code",
   "execution_count": 7,
   "metadata": {},
   "outputs": [
    {
     "data": {
      "text/html": [
       "<div>\n",
       "<style scoped>\n",
       "    .dataframe tbody tr th:only-of-type {\n",
       "        vertical-align: middle;\n",
       "    }\n",
       "\n",
       "    .dataframe tbody tr th {\n",
       "        vertical-align: top;\n",
       "    }\n",
       "\n",
       "    .dataframe thead th {\n",
       "        text-align: right;\n",
       "    }\n",
       "</style>\n",
       "<table border=\"1\" class=\"dataframe\">\n",
       "  <thead>\n",
       "    <tr style=\"text-align: right;\">\n",
       "      <th></th>\n",
       "      <th>PhraseId</th>\n",
       "      <th>SentenceId</th>\n",
       "      <th>Phrase</th>\n",
       "      <th>Sentiment</th>\n",
       "    </tr>\n",
       "  </thead>\n",
       "  <tbody>\n",
       "    <tr>\n",
       "      <th>0</th>\n",
       "      <td>1</td>\n",
       "      <td>1</td>\n",
       "      <td>A series of escapades demonstrating the adage ...</td>\n",
       "      <td>1</td>\n",
       "    </tr>\n",
       "    <tr>\n",
       "      <th>1</th>\n",
       "      <td>2</td>\n",
       "      <td>1</td>\n",
       "      <td>A series of escapades demonstrating the adage ...</td>\n",
       "      <td>2</td>\n",
       "    </tr>\n",
       "    <tr>\n",
       "      <th>2</th>\n",
       "      <td>3</td>\n",
       "      <td>1</td>\n",
       "      <td>A series</td>\n",
       "      <td>2</td>\n",
       "    </tr>\n",
       "    <tr>\n",
       "      <th>3</th>\n",
       "      <td>4</td>\n",
       "      <td>1</td>\n",
       "      <td>A</td>\n",
       "      <td>2</td>\n",
       "    </tr>\n",
       "    <tr>\n",
       "      <th>4</th>\n",
       "      <td>5</td>\n",
       "      <td>1</td>\n",
       "      <td>series</td>\n",
       "      <td>2</td>\n",
       "    </tr>\n",
       "    <tr>\n",
       "      <th>...</th>\n",
       "      <td>...</td>\n",
       "      <td>...</td>\n",
       "      <td>...</td>\n",
       "      <td>...</td>\n",
       "    </tr>\n",
       "    <tr>\n",
       "      <th>156055</th>\n",
       "      <td>156056</td>\n",
       "      <td>8544</td>\n",
       "      <td>Hearst 's</td>\n",
       "      <td>2</td>\n",
       "    </tr>\n",
       "    <tr>\n",
       "      <th>156056</th>\n",
       "      <td>156057</td>\n",
       "      <td>8544</td>\n",
       "      <td>forced avuncular chortles</td>\n",
       "      <td>1</td>\n",
       "    </tr>\n",
       "    <tr>\n",
       "      <th>156057</th>\n",
       "      <td>156058</td>\n",
       "      <td>8544</td>\n",
       "      <td>avuncular chortles</td>\n",
       "      <td>3</td>\n",
       "    </tr>\n",
       "    <tr>\n",
       "      <th>156058</th>\n",
       "      <td>156059</td>\n",
       "      <td>8544</td>\n",
       "      <td>avuncular</td>\n",
       "      <td>2</td>\n",
       "    </tr>\n",
       "    <tr>\n",
       "      <th>156059</th>\n",
       "      <td>156060</td>\n",
       "      <td>8544</td>\n",
       "      <td>chortles</td>\n",
       "      <td>2</td>\n",
       "    </tr>\n",
       "  </tbody>\n",
       "</table>\n",
       "<p>156060 rows × 4 columns</p>\n",
       "</div>"
      ],
      "text/plain": [
       "        PhraseId  SentenceId  \\\n",
       "0              1           1   \n",
       "1              2           1   \n",
       "2              3           1   \n",
       "3              4           1   \n",
       "4              5           1   \n",
       "...          ...         ...   \n",
       "156055    156056        8544   \n",
       "156056    156057        8544   \n",
       "156057    156058        8544   \n",
       "156058    156059        8544   \n",
       "156059    156060        8544   \n",
       "\n",
       "                                                   Phrase  Sentiment  \n",
       "0       A series of escapades demonstrating the adage ...          1  \n",
       "1       A series of escapades demonstrating the adage ...          2  \n",
       "2                                                A series          2  \n",
       "3                                                       A          2  \n",
       "4                                                  series          2  \n",
       "...                                                   ...        ...  \n",
       "156055                                          Hearst 's          2  \n",
       "156056                          forced avuncular chortles          1  \n",
       "156057                                 avuncular chortles          3  \n",
       "156058                                          avuncular          2  \n",
       "156059                                           chortles          2  \n",
       "\n",
       "[156060 rows x 4 columns]"
      ]
     },
     "execution_count": 7,
     "metadata": {},
     "output_type": "execute_result"
    }
   ],
   "source": [
    "train"
   ]
  },
  {
   "cell_type": "code",
   "execution_count": 8,
   "metadata": {},
   "outputs": [
    {
     "data": {
      "text/html": [
       "<div>\n",
       "<style scoped>\n",
       "    .dataframe tbody tr th:only-of-type {\n",
       "        vertical-align: middle;\n",
       "    }\n",
       "\n",
       "    .dataframe tbody tr th {\n",
       "        vertical-align: top;\n",
       "    }\n",
       "\n",
       "    .dataframe thead th {\n",
       "        text-align: right;\n",
       "    }\n",
       "</style>\n",
       "<table border=\"1\" class=\"dataframe\">\n",
       "  <thead>\n",
       "    <tr style=\"text-align: right;\">\n",
       "      <th></th>\n",
       "      <th>PhraseId</th>\n",
       "      <th>SentenceId</th>\n",
       "      <th>Phrase</th>\n",
       "    </tr>\n",
       "  </thead>\n",
       "  <tbody>\n",
       "    <tr>\n",
       "      <th>0</th>\n",
       "      <td>156061</td>\n",
       "      <td>8545</td>\n",
       "      <td>An intermittently pleasing but mostly routine ...</td>\n",
       "    </tr>\n",
       "    <tr>\n",
       "      <th>1</th>\n",
       "      <td>156062</td>\n",
       "      <td>8545</td>\n",
       "      <td>An intermittently pleasing but mostly routine ...</td>\n",
       "    </tr>\n",
       "    <tr>\n",
       "      <th>2</th>\n",
       "      <td>156063</td>\n",
       "      <td>8545</td>\n",
       "      <td>An</td>\n",
       "    </tr>\n",
       "    <tr>\n",
       "      <th>3</th>\n",
       "      <td>156064</td>\n",
       "      <td>8545</td>\n",
       "      <td>intermittently pleasing but mostly routine effort</td>\n",
       "    </tr>\n",
       "    <tr>\n",
       "      <th>4</th>\n",
       "      <td>156065</td>\n",
       "      <td>8545</td>\n",
       "      <td>intermittently pleasing but mostly routine</td>\n",
       "    </tr>\n",
       "    <tr>\n",
       "      <th>...</th>\n",
       "      <td>...</td>\n",
       "      <td>...</td>\n",
       "      <td>...</td>\n",
       "    </tr>\n",
       "    <tr>\n",
       "      <th>66287</th>\n",
       "      <td>222348</td>\n",
       "      <td>11855</td>\n",
       "      <td>A long-winded , predictable scenario .</td>\n",
       "    </tr>\n",
       "    <tr>\n",
       "      <th>66288</th>\n",
       "      <td>222349</td>\n",
       "      <td>11855</td>\n",
       "      <td>A long-winded , predictable scenario</td>\n",
       "    </tr>\n",
       "    <tr>\n",
       "      <th>66289</th>\n",
       "      <td>222350</td>\n",
       "      <td>11855</td>\n",
       "      <td>A long-winded ,</td>\n",
       "    </tr>\n",
       "    <tr>\n",
       "      <th>66290</th>\n",
       "      <td>222351</td>\n",
       "      <td>11855</td>\n",
       "      <td>A long-winded</td>\n",
       "    </tr>\n",
       "    <tr>\n",
       "      <th>66291</th>\n",
       "      <td>222352</td>\n",
       "      <td>11855</td>\n",
       "      <td>predictable scenario</td>\n",
       "    </tr>\n",
       "  </tbody>\n",
       "</table>\n",
       "<p>66292 rows × 3 columns</p>\n",
       "</div>"
      ],
      "text/plain": [
       "       PhraseId  SentenceId                                             Phrase\n",
       "0        156061        8545  An intermittently pleasing but mostly routine ...\n",
       "1        156062        8545  An intermittently pleasing but mostly routine ...\n",
       "2        156063        8545                                                 An\n",
       "3        156064        8545  intermittently pleasing but mostly routine effort\n",
       "4        156065        8545         intermittently pleasing but mostly routine\n",
       "...         ...         ...                                                ...\n",
       "66287    222348       11855             A long-winded , predictable scenario .\n",
       "66288    222349       11855               A long-winded , predictable scenario\n",
       "66289    222350       11855                                    A long-winded ,\n",
       "66290    222351       11855                                      A long-winded\n",
       "66291    222352       11855                               predictable scenario\n",
       "\n",
       "[66292 rows x 3 columns]"
      ]
     },
     "execution_count": 8,
     "metadata": {},
     "output_type": "execute_result"
    }
   ],
   "source": [
    "test"
   ]
  },
  {
   "cell_type": "markdown",
   "metadata": {},
   "source": [
    "使用词袋模型向量化"
   ]
  },
  {
   "cell_type": "code",
   "execution_count": 9,
   "metadata": {},
   "outputs": [],
   "source": [
    "# 将短语和标签提取出来\n",
    "X = train['Phrase']  # 短语\n",
    "y = train['Sentiment']  # 情感标签\n",
    "\n",
    "# 将数据拆分为训练集和验证集\n",
    "X_train, X_val, y_train, y_val = train_test_split(X, y, test_size=0.2, random_state=42)\n",
    "\n",
    "# 文本向量化\n",
    "vectorizer = CountVectorizer()\n",
    "X_train_vec = vectorizer.fit_transform(X_train)\n",
    "X_val_vec = vectorizer.transform(X_val)"
   ]
  },
  {
   "cell_type": "code",
   "execution_count": null,
   "metadata": {},
   "outputs": [],
   "source": [
    "XGBoost模型"
   ]
  },
  {
   "cell_type": "code",
   "execution_count": 10,
   "metadata": {},
   "outputs": [],
   "source": [
    "X = X_train_vec\n",
    "y = y_train"
   ]
  },
  {
   "cell_type": "markdown",
   "metadata": {},
   "source": [
    "使用XGBoost训练模型，并用optuna调参"
   ]
  },
  {
   "cell_type": "code",
   "execution_count": 32,
   "metadata": {},
   "outputs": [],
   "source": [
    "import optuna"
   ]
  },
  {
   "cell_type": "code",
   "execution_count": null,
   "metadata": {},
   "outputs": [],
   "source": [
    "# 定义目标函数，用于Optuna调参\n",
    "def objective(trial):\n",
    "    # 为XGBClassifier的参数进行采样\n",
    "    params = {\n",
    "        'scale_pos_weight': trial.suggest_float('scale_pos_weight', 0.4, 0.8),\n",
    "        'learning_rate': trial.suggest_loguniform('learning_rate', 0.01, 0.1),\n",
    "        'colsample_bytree': trial.suggest_float('colsample_bytree', 0.1, 1.0),\n",
    "        'subsample': trial.suggest_float('subsample', 0.3, 0.9),\n",
    "        'n_estimators': trial.suggest_int('n_estimators', 2000, 6000),\n",
    "        'reg_alpha': trial.suggest_float('reg_alpha', 0.3, 1.0),\n",
    "        'max_depth': trial.suggest_int('max_depth', 5, 10),\n",
    "        'gamma': trial.suggest_float('gamma', 0.1, 5),\n",
    "        'random_state': 42\n",
    "    }\n",
    "    \n",
    "    # 创建XGBClassifier\n",
    "    xgb = XGBClassifier(\n",
    "        silent=False,\n",
    "        **params\n",
    "    )\n",
    "    \n",
    "    # 训练模型\n",
    "    xgb.fit(X_train_vec, y_train)\n",
    "    \n",
    "    # 预测测试集\n",
    "    predictions = xgb.predict(X_val_vec)\n",
    "    \n",
    "    # 计算准确率\n",
    "    accuracy = accuracy_score(y_val, predictions)\n",
    "    \n",
    "    # 返回准确率，Optuna将根据此值进行优化\n",
    "    return accuracy"
   ]
  },
  {
   "cell_type": "code",
   "execution_count": 41,
   "metadata": {},
   "outputs": [
    {
     "name": "stderr",
     "output_type": "stream",
     "text": [
      "[I 2024-11-24 11:03:50,065] A new study created in memory with name: no-name-82f524c1-b4f3-437c-8131-82f7487ade5f\n",
      "[I 2024-11-24 11:09:27,259] Trial 0 finished with value: 0.6109509163142381 and parameters: {'scale_pos_weight': 0.6006473355583786, 'learning_rate': 0.09891118807099304, 'colsample_bytree': 0.38534312204559895, 'subsample': 0.7121797863893894, 'n_estimators': 4946, 'reg_alpha': 0.6685787317889744, 'max_depth': 5, 'gamma': 3.9467694643850826}. Best is trial 0 with value: 0.6109509163142381.\n",
      "[I 2024-11-24 11:13:04,158] Trial 1 finished with value: 0.6326733307702166 and parameters: {'scale_pos_weight': 0.5839445514564013, 'learning_rate': 0.0738037473081925, 'colsample_bytree': 0.1937217887219025, 'subsample': 0.7421060946302614, 'n_estimators': 2043, 'reg_alpha': 0.4203840193310351, 'max_depth': 10, 'gamma': 1.3083655039168633}. Best is trial 1 with value: 0.6326733307702166.\n",
      "[I 2024-11-24 11:25:43,764] Trial 2 finished with value: 0.6025246699987185 and parameters: {'scale_pos_weight': 0.44171366126205436, 'learning_rate': 0.014744524034807693, 'colsample_bytree': 0.8537589590485731, 'subsample': 0.8596089052986431, 'n_estimators': 4717, 'reg_alpha': 0.8796153324878222, 'max_depth': 8, 'gamma': 3.5313781669190085}. Best is trial 1 with value: 0.6326733307702166.\n",
      "[I 2024-11-24 11:39:51,535] Trial 3 finished with value: 0.6034217608612072 and parameters: {'scale_pos_weight': 0.5428706926764235, 'learning_rate': 0.013066516566687817, 'colsample_bytree': 0.9760864848525398, 'subsample': 0.727394000975025, 'n_estimators': 4153, 'reg_alpha': 0.8595976896254649, 'max_depth': 10, 'gamma': 3.572817017468921}. Best is trial 1 with value: 0.6326733307702166.\n",
      "[I 2024-11-24 11:42:59,494] Trial 4 finished with value: 0.5999935922081251 and parameters: {'scale_pos_weight': 0.47484787055800326, 'learning_rate': 0.07687760482103731, 'colsample_bytree': 0.5859050314816862, 'subsample': 0.6336598445530245, 'n_estimators': 2070, 'reg_alpha': 0.7422304028542837, 'max_depth': 6, 'gamma': 4.8164131033536774}. Best is trial 1 with value: 0.6326733307702166.\n",
      "[I 2024-11-24 11:51:51,431] Trial 5 finished with value: 0.6063052672049212 and parameters: {'scale_pos_weight': 0.514268481513626, 'learning_rate': 0.025319951048126052, 'colsample_bytree': 0.5355290311434628, 'subsample': 0.6830246646138795, 'n_estimators': 5431, 'reg_alpha': 0.7001244645583533, 'max_depth': 5, 'gamma': 3.368113516407451}. Best is trial 1 with value: 0.6326733307702166.\n",
      "[I 2024-11-24 11:56:37,530] Trial 6 finished with value: 0.6011790337049853 and parameters: {'scale_pos_weight': 0.510074365131279, 'learning_rate': 0.04351313942491522, 'colsample_bytree': 0.9258525661498476, 'subsample': 0.7184726793037783, 'n_estimators': 2170, 'reg_alpha': 0.9159726820306855, 'max_depth': 5, 'gamma': 2.827448494862665}. Best is trial 1 with value: 0.6326733307702166.\n",
      "[I 2024-11-24 12:05:10,410] Trial 7 finished with value: 0.6495899013200052 and parameters: {'scale_pos_weight': 0.49532624101490497, 'learning_rate': 0.07893912053609671, 'colsample_bytree': 0.7032087285255331, 'subsample': 0.781689529704698, 'n_estimators': 3355, 'reg_alpha': 0.5267978486476341, 'max_depth': 7, 'gamma': 0.5521902572655487}. Best is trial 7 with value: 0.6495899013200052.\n",
      "[I 2024-11-24 12:12:29,099] Trial 8 finished with value: 0.6280917595796488 and parameters: {'scale_pos_weight': 0.4547739436136286, 'learning_rate': 0.03802593208293104, 'colsample_bytree': 0.11058491572973345, 'subsample': 0.6763172419446617, 'n_estimators': 4902, 'reg_alpha': 0.36526270547915024, 'max_depth': 8, 'gamma': 1.415187921288849}. Best is trial 7 with value: 0.6495899013200052.\n",
      "[I 2024-11-24 12:23:50,387] Trial 9 finished with value: 0.6336024605920799 and parameters: {'scale_pos_weight': 0.6961656491000325, 'learning_rate': 0.03785668102154353, 'colsample_bytree': 0.9315029913775879, 'subsample': 0.6296545514107563, 'n_estimators': 4251, 'reg_alpha': 0.9607221282189407, 'max_depth': 8, 'gamma': 1.5962107105118846}. Best is trial 7 with value: 0.6495899013200052.\n",
      "[I 2024-11-24 12:32:06,905] Trial 10 finished with value: 0.6120082019736 and parameters: {'scale_pos_weight': 0.7639553836750754, 'learning_rate': 0.02089348000311463, 'colsample_bytree': 0.7302552252690488, 'subsample': 0.4260789146693969, 'n_estimators': 3157, 'reg_alpha': 0.4947912152026615, 'max_depth': 7, 'gamma': 0.1088123720972522}. Best is trial 7 with value: 0.6495899013200052.\n",
      "[I 2024-11-24 12:40:21,722] Trial 11 finished with value: 0.6353966423170575 and parameters: {'scale_pos_weight': 0.6930092084735209, 'learning_rate': 0.05144370669528828, 'colsample_bytree': 0.7552475732317052, 'subsample': 0.5155825134154957, 'n_estimators': 3364, 'reg_alpha': 0.5402643808637323, 'max_depth': 7, 'gamma': 1.356524853841255}. Best is trial 7 with value: 0.6495899013200052.\n",
      "[I 2024-11-24 12:48:35,008] Trial 12 finished with value: 0.6427335640138409 and parameters: {'scale_pos_weight': 0.6567993389921993, 'learning_rate': 0.05922287450108034, 'colsample_bytree': 0.6553198567975471, 'subsample': 0.4487658353070526, 'n_estimators': 3402, 'reg_alpha': 0.529537369706746, 'max_depth': 7, 'gamma': 0.30851805275151767}. Best is trial 7 with value: 0.6495899013200052.\n",
      "[I 2024-11-24 12:57:06,086] Trial 13 finished with value: 0.6442714340638216 and parameters: {'scale_pos_weight': 0.4013983433148708, 'learning_rate': 0.059744358941723995, 'colsample_bytree': 0.5970433149382565, 'subsample': 0.34723713897664016, 'n_estimators': 3223, 'reg_alpha': 0.5711319766535944, 'max_depth': 9, 'gamma': 0.4066830040043674}. Best is trial 7 with value: 0.6495899013200052.\n",
      "[I 2024-11-24 13:03:09,049] Trial 14 finished with value: 0.6478597975137768 and parameters: {'scale_pos_weight': 0.40616605804079525, 'learning_rate': 0.09849462751748281, 'colsample_bytree': 0.44176830572473635, 'subsample': 0.3645430270463442, 'n_estimators': 2726, 'reg_alpha': 0.6062856279435737, 'max_depth': 9, 'gamma': 0.6829302897691267}. Best is trial 7 with value: 0.6495899013200052.\n",
      "[I 2024-11-24 13:07:49,303] Trial 15 finished with value: 0.6358451877483019 and parameters: {'scale_pos_weight': 0.4044573746889184, 'learning_rate': 0.09596292141090576, 'colsample_bytree': 0.4128943812798658, 'subsample': 0.8591833261051884, 'n_estimators': 2702, 'reg_alpha': 0.3034036712500911, 'max_depth': 9, 'gamma': 2.0514123495308336}. Best is trial 7 with value: 0.6495899013200052.\n",
      "[I 2024-11-24 13:13:45,329] Trial 16 finished with value: 0.6395937459951301 and parameters: {'scale_pos_weight': 0.47809147912821937, 'learning_rate': 0.07363840136457249, 'colsample_bytree': 0.4136958347647657, 'subsample': 0.30756553326894415, 'n_estimators': 2752, 'reg_alpha': 0.625528595882053, 'max_depth': 9, 'gamma': 0.7966959277806482}. Best is trial 7 with value: 0.6495899013200052.\n",
      "[I 2024-11-24 13:20:34,576] Trial 17 finished with value: 0.6112713059079841 and parameters: {'scale_pos_weight': 0.5483580572147045, 'learning_rate': 0.03015115558509753, 'colsample_bytree': 0.4994071169388399, 'subsample': 0.5493488496921212, 'n_estimators': 3784, 'reg_alpha': 0.7647065556791226, 'max_depth': 6, 'gamma': 2.2231890299844186}. Best is trial 7 with value: 0.6495899013200052.\n",
      "[I 2024-11-24 13:24:48,596] Trial 18 finished with value: 0.6373510188389081 and parameters: {'scale_pos_weight': 0.4380074667090294, 'learning_rate': 0.0988057330192134, 'colsample_bytree': 0.28063497534580695, 'subsample': 0.8054507446134131, 'n_estimators': 2724, 'reg_alpha': 0.4137092937679864, 'max_depth': 6, 'gamma': 0.8756859095813998}. Best is trial 7 with value: 0.6495899013200052.\n",
      "[I 2024-11-24 13:36:39,665] Trial 19 finished with value: 0.6026528258362168 and parameters: {'scale_pos_weight': 0.5942807003936414, 'learning_rate': 0.01009641195272515, 'colsample_bytree': 0.6971707599645999, 'subsample': 0.4349644605730776, 'n_estimators': 3780, 'reg_alpha': 0.6133066435305117, 'max_depth': 9, 'gamma': 0.9457216023912118}. Best is trial 7 with value: 0.6495899013200052.\n"
     ]
    },
    {
     "name": "stdout",
     "output_type": "stream",
     "text": [
      "Number of finished trials:  20\n",
      "Best trial:\n",
      " Value: 0.6495899013200052\n",
      " Params: \n",
      " scale_pos_weight: 0.49532624101490497\n",
      " learning_rate: 0.07893912053609671\n",
      " colsample_bytree: 0.7032087285255331\n",
      " subsample: 0.781689529704698\n",
      " n_estimators: 3355\n",
      " reg_alpha: 0.5267978486476341\n",
      " max_depth: 7\n",
      " gamma: 0.5521902572655487\n",
      "CPU times: total: 13h 3min 1s\n",
      "Wall time: 2h 32min 49s\n"
     ]
    }
   ],
   "source": [
    "%%time\n",
    "#使用optuna调参\n",
    "study = optuna.create_study(direction=\"maximize\")\n",
    "study.optimize(objective, n_trials=20)\n",
    "\n",
    "# 输出最佳参数和结果\n",
    "print(\"Number of finished trials: \", len(study.trials))\n",
    "print(\"Best trial:\")\n",
    "trial = study.best_trial\n",
    "print(\" Value: {}\".format(trial.value))\n",
    "print(\" Params: \")\n",
    "for key, value in trial.params.items():\n",
    "    print(\" {}: {}\".format(key, value))"
   ]
  },
  {
   "cell_type": "markdown",
   "metadata": {},
   "source": [
    "使用optuna设置20个trial根据准确率调整模型的参数，最终trial 7为最优，准确率为0.6495899对应参数为\n",
    "Params: \n",
    " scale_pos_weight: 0.49532624101490497\n",
    " learning_rate: 0.07893912053609671\n",
    " colsample_bytree: 0.7032087285255331\n",
    " subsample: 0.781689529704698\n",
    " n_estimators: 3355\n",
    " reg_alpha: 0.5267978486476341\n",
    " max_depth: 7\n",
    " gamma: 0.5521902572655487"
   ]
  },
  {
   "cell_type": "code",
   "execution_count": 42,
   "metadata": {},
   "outputs": [
    {
     "data": {
      "text/plain": [
       "FrozenTrial(number=7, state=1, values=[0.6495899013200052], datetime_start=datetime.datetime(2024, 11, 24, 11, 56, 37, 533375), datetime_complete=datetime.datetime(2024, 11, 24, 12, 5, 10, 410825), params={'scale_pos_weight': 0.49532624101490497, 'learning_rate': 0.07893912053609671, 'colsample_bytree': 0.7032087285255331, 'subsample': 0.781689529704698, 'n_estimators': 3355, 'reg_alpha': 0.5267978486476341, 'max_depth': 7, 'gamma': 0.5521902572655487}, user_attrs={}, system_attrs={}, intermediate_values={}, distributions={'scale_pos_weight': FloatDistribution(high=0.8, log=False, low=0.4, step=None), 'learning_rate': FloatDistribution(high=0.1, log=True, low=0.01, step=None), 'colsample_bytree': FloatDistribution(high=1.0, log=False, low=0.1, step=None), 'subsample': FloatDistribution(high=0.9, log=False, low=0.3, step=None), 'n_estimators': IntDistribution(high=6000, log=False, low=2000, step=1), 'reg_alpha': FloatDistribution(high=1.0, log=False, low=0.3, step=None), 'max_depth': IntDistribution(high=10, log=False, low=5, step=1), 'gamma': FloatDistribution(high=5.0, log=False, low=0.1, step=None)}, trial_id=7, value=None)"
      ]
     },
     "execution_count": 42,
     "metadata": {},
     "output_type": "execute_result"
    }
   ],
   "source": [
    "trial"
   ]
  },
  {
   "cell_type": "markdown",
   "metadata": {},
   "source": [
    "使用调参得到的最佳参数训练模型"
   ]
  },
  {
   "cell_type": "code",
   "execution_count": 43,
   "metadata": {},
   "outputs": [],
   "source": [
    "parameters={'scale_pos_weight': 0.49532624101490497, 'learning_rate': 0.07893912053609671, 'colsample_bytree': 0.7032087285255331, 'subsample': 0.781689529704698, 'n_estimators': 3355, 'reg_alpha': 0.5267978486476341, 'max_depth': 7, 'gamma': 0.5521902572655487}\n",
    "xgb = XGBClassifier(silent=False, \n",
    "                      **parameters)"
   ]
  },
  {
   "cell_type": "code",
   "execution_count": 44,
   "metadata": {},
   "outputs": [
    {
     "name": "stdout",
     "output_type": "stream",
     "text": [
      "CPU times: total: 43min 57s\n",
      "Wall time: 8min 59s\n"
     ]
    },
    {
     "data": {
      "text/html": [
       "<style>#sk-container-id-3 {color: black;}#sk-container-id-3 pre{padding: 0;}#sk-container-id-3 div.sk-toggleable {background-color: white;}#sk-container-id-3 label.sk-toggleable__label {cursor: pointer;display: block;width: 100%;margin-bottom: 0;padding: 0.3em;box-sizing: border-box;text-align: center;}#sk-container-id-3 label.sk-toggleable__label-arrow:before {content: \"▸\";float: left;margin-right: 0.25em;color: #696969;}#sk-container-id-3 label.sk-toggleable__label-arrow:hover:before {color: black;}#sk-container-id-3 div.sk-estimator:hover label.sk-toggleable__label-arrow:before {color: black;}#sk-container-id-3 div.sk-toggleable__content {max-height: 0;max-width: 0;overflow: hidden;text-align: left;background-color: #f0f8ff;}#sk-container-id-3 div.sk-toggleable__content pre {margin: 0.2em;color: black;border-radius: 0.25em;background-color: #f0f8ff;}#sk-container-id-3 input.sk-toggleable__control:checked~div.sk-toggleable__content {max-height: 200px;max-width: 100%;overflow: auto;}#sk-container-id-3 input.sk-toggleable__control:checked~label.sk-toggleable__label-arrow:before {content: \"▾\";}#sk-container-id-3 div.sk-estimator input.sk-toggleable__control:checked~label.sk-toggleable__label {background-color: #d4ebff;}#sk-container-id-3 div.sk-label input.sk-toggleable__control:checked~label.sk-toggleable__label {background-color: #d4ebff;}#sk-container-id-3 input.sk-hidden--visually {border: 0;clip: rect(1px 1px 1px 1px);clip: rect(1px, 1px, 1px, 1px);height: 1px;margin: -1px;overflow: hidden;padding: 0;position: absolute;width: 1px;}#sk-container-id-3 div.sk-estimator {font-family: monospace;background-color: #f0f8ff;border: 1px dotted black;border-radius: 0.25em;box-sizing: border-box;margin-bottom: 0.5em;}#sk-container-id-3 div.sk-estimator:hover {background-color: #d4ebff;}#sk-container-id-3 div.sk-parallel-item::after {content: \"\";width: 100%;border-bottom: 1px solid gray;flex-grow: 1;}#sk-container-id-3 div.sk-label:hover label.sk-toggleable__label {background-color: #d4ebff;}#sk-container-id-3 div.sk-serial::before {content: \"\";position: absolute;border-left: 1px solid gray;box-sizing: border-box;top: 0;bottom: 0;left: 50%;z-index: 0;}#sk-container-id-3 div.sk-serial {display: flex;flex-direction: column;align-items: center;background-color: white;padding-right: 0.2em;padding-left: 0.2em;position: relative;}#sk-container-id-3 div.sk-item {position: relative;z-index: 1;}#sk-container-id-3 div.sk-parallel {display: flex;align-items: stretch;justify-content: center;background-color: white;position: relative;}#sk-container-id-3 div.sk-item::before, #sk-container-id-3 div.sk-parallel-item::before {content: \"\";position: absolute;border-left: 1px solid gray;box-sizing: border-box;top: 0;bottom: 0;left: 50%;z-index: -1;}#sk-container-id-3 div.sk-parallel-item {display: flex;flex-direction: column;z-index: 1;position: relative;background-color: white;}#sk-container-id-3 div.sk-parallel-item:first-child::after {align-self: flex-end;width: 50%;}#sk-container-id-3 div.sk-parallel-item:last-child::after {align-self: flex-start;width: 50%;}#sk-container-id-3 div.sk-parallel-item:only-child::after {width: 0;}#sk-container-id-3 div.sk-dashed-wrapped {border: 1px dashed gray;margin: 0 0.4em 0.5em 0.4em;box-sizing: border-box;padding-bottom: 0.4em;background-color: white;}#sk-container-id-3 div.sk-label label {font-family: monospace;font-weight: bold;display: inline-block;line-height: 1.2em;}#sk-container-id-3 div.sk-label-container {text-align: center;}#sk-container-id-3 div.sk-container {/* jupyter's `normalize.less` sets `[hidden] { display: none; }` but bootstrap.min.css set `[hidden] { display: none !important; }` so we also need the `!important` here to be able to override the default hidden behavior on the sphinx rendered scikit-learn.org. See: https://github.com/scikit-learn/scikit-learn/issues/21755 */display: inline-block !important;position: relative;}#sk-container-id-3 div.sk-text-repr-fallback {display: none;}</style><div id=\"sk-container-id-3\" class=\"sk-top-container\"><div class=\"sk-text-repr-fallback\"><pre>XGBClassifier(base_score=None, booster=None, callbacks=None,\n",
       "              colsample_bylevel=None, colsample_bynode=None,\n",
       "              colsample_bytree=0.7032087285255331, device=None,\n",
       "              early_stopping_rounds=None, enable_categorical=False,\n",
       "              eval_metric=None, feature_types=None, gamma=0.5521902572655487,\n",
       "              grow_policy=None, importance_type=None,\n",
       "              interaction_constraints=None, learning_rate=0.07893912053609671,\n",
       "              max_bin=None, max_cat_threshold=None, max_cat_to_onehot=None,\n",
       "              max_delta_step=None, max_depth=7, max_leaves=None,\n",
       "              min_child_weight=None, missing=nan, monotone_constraints=None,\n",
       "              multi_strategy=None, n_estimators=3355, n_jobs=None,\n",
       "              num_parallel_tree=None, objective=&#x27;multi:softprob&#x27;, ...)</pre><b>In a Jupyter environment, please rerun this cell to show the HTML representation or trust the notebook. <br />On GitHub, the HTML representation is unable to render, please try loading this page with nbviewer.org.</b></div><div class=\"sk-container\" hidden><div class=\"sk-item\"><div class=\"sk-estimator sk-toggleable\"><input class=\"sk-toggleable__control sk-hidden--visually\" id=\"sk-estimator-id-3\" type=\"checkbox\" checked><label for=\"sk-estimator-id-3\" class=\"sk-toggleable__label sk-toggleable__label-arrow\">XGBClassifier</label><div class=\"sk-toggleable__content\"><pre>XGBClassifier(base_score=None, booster=None, callbacks=None,\n",
       "              colsample_bylevel=None, colsample_bynode=None,\n",
       "              colsample_bytree=0.7032087285255331, device=None,\n",
       "              early_stopping_rounds=None, enable_categorical=False,\n",
       "              eval_metric=None, feature_types=None, gamma=0.5521902572655487,\n",
       "              grow_policy=None, importance_type=None,\n",
       "              interaction_constraints=None, learning_rate=0.07893912053609671,\n",
       "              max_bin=None, max_cat_threshold=None, max_cat_to_onehot=None,\n",
       "              max_delta_step=None, max_depth=7, max_leaves=None,\n",
       "              min_child_weight=None, missing=nan, monotone_constraints=None,\n",
       "              multi_strategy=None, n_estimators=3355, n_jobs=None,\n",
       "              num_parallel_tree=None, objective=&#x27;multi:softprob&#x27;, ...)</pre></div></div></div></div></div>"
      ],
      "text/plain": [
       "XGBClassifier(base_score=None, booster=None, callbacks=None,\n",
       "              colsample_bylevel=None, colsample_bynode=None,\n",
       "              colsample_bytree=0.7032087285255331, device=None,\n",
       "              early_stopping_rounds=None, enable_categorical=False,\n",
       "              eval_metric=None, feature_types=None, gamma=0.5521902572655487,\n",
       "              grow_policy=None, importance_type=None,\n",
       "              interaction_constraints=None, learning_rate=0.07893912053609671,\n",
       "              max_bin=None, max_cat_threshold=None, max_cat_to_onehot=None,\n",
       "              max_delta_step=None, max_depth=7, max_leaves=None,\n",
       "              min_child_weight=None, missing=nan, monotone_constraints=None,\n",
       "              multi_strategy=None, n_estimators=3355, n_jobs=None,\n",
       "              num_parallel_tree=None, objective='multi:softprob', ...)"
      ]
     },
     "execution_count": 44,
     "metadata": {},
     "output_type": "execute_result"
    }
   ],
   "source": [
    "%%time\n",
    "xgb.fit(X_train_vec,y_train)"
   ]
  },
  {
   "cell_type": "markdown",
   "metadata": {},
   "source": [
    "对验证集进行预测，评估模型指标"
   ]
  },
  {
   "cell_type": "code",
   "execution_count": 45,
   "metadata": {},
   "outputs": [
    {
     "name": "stdout",
     "output_type": "stream",
     "text": [
      "Validation Accuracy: 0.6493976675637575\n",
      "              precision    recall  f1-score   support\n",
      "\n",
      "           0       0.56      0.33      0.41      1416\n",
      "           1       0.59      0.37      0.45      5527\n",
      "           2       0.67      0.90      0.77     15639\n",
      "           3       0.62      0.45      0.52      6707\n",
      "           4       0.60      0.38      0.47      1923\n",
      "\n",
      "    accuracy                           0.65     31212\n",
      "   macro avg       0.61      0.48      0.52     31212\n",
      "weighted avg       0.64      0.65      0.62     31212\n",
      "\n",
      "CPU times: total: 2min 11s\n",
      "Wall time: 21.7 s\n"
     ]
    }
   ],
   "source": [
    "%%time\n",
    "# Prediction on validation set\n",
    "y_pred = xgb.predict(X_val_vec)\n",
    "\n",
    "# Evaluating accuracy\n",
    "accuracy = accuracy_score(y_val, y_pred)\n",
    "print(\"Validation Accuracy:\", accuracy)\n",
    "\n",
    "#classification report\n",
    "report = classification_report(y_val, y_pred)\n",
    "print(report)"
   ]
  },
  {
   "cell_type": "code",
   "execution_count": 46,
   "metadata": {},
   "outputs": [
    {
     "data": {
      "image/png": "[encoded data removed]",
      "text/plain": [
       "<Figure size 1000x800 with 2 Axes>"
      ]
     },
     "metadata": {},
     "output_type": "display_data"
    }
   ],
   "source": [
    "# 绘制混淆矩阵\n",
    "conf_matrix = confusion_matrix(y_val, y_pred)\n",
    "plt.figure(figsize=(10, 8))\n",
    "sns.heatmap(conf_matrix, annot=True, annot_kws={\"size\": 16}, fmt='d', cmap='coolwarm')\n",
    "plt.xlabel('Predicted Labels',fontsize=16)\n",
    "plt.ylabel('True Labels',fontsize=16)\n",
    "plt.title('Confusion Matrix',fontsize=16)\n",
    "plt.show()"
   ]
  },
  {
   "cell_type": "markdown",
   "metadata": {},
   "source": [
    "检查测试集中是否存在NaN"
   ]
  },
  {
   "cell_type": "markdown",
   "metadata": {},
   "source": [
    "使用<UNK>填补缺失值"
   ]
  },
  {
   "cell_type": "code",
   "execution_count": 48,
   "metadata": {},
   "outputs": [],
   "source": [
    "X_test=test['Phrase']\n",
    "#填补缺失值\n",
    "X_test.fillna('<UNK>', inplace=True)"
   ]
  },
  {
   "cell_type": "markdown",
   "metadata": {},
   "source": [
    "检查是否存在缺失值，验证填补结果"
   ]
  },
  {
   "cell_type": "code",
   "execution_count": 49,
   "metadata": {},
   "outputs": [
    {
     "name": "stdout",
     "output_type": "stream",
     "text": [
      "不存在NaN值\n"
     ]
    }
   ],
   "source": [
    "nan_mask = pd.isnull(X_test)  # 或者使用 pd.isna(X_test)\n",
    "if nan_mask.any().any():  # 检查是否有任何NaN值\n",
    "    print(\"存在NaN值\")\n",
    "else:\n",
    "    print(\"不存在NaN值\")"
   ]
  },
  {
   "cell_type": "code",
   "execution_count": 50,
   "metadata": {},
   "outputs": [],
   "source": [
    "X_test_vec =vectorizer.transform(X_test)"
   ]
  },
  {
   "cell_type": "code",
   "execution_count": 51,
   "metadata": {},
   "outputs": [
    {
     "name": "stdout",
     "output_type": "stream",
     "text": [
      "CPU times: total: 4min 49s\n",
      "Wall time: 52 s\n"
     ]
    }
   ],
   "source": [
    "%%time\n",
    "# Prediction on test set\n",
    "xgb_predict=xgb.predict(X_test_vec)"
   ]
  },
  {
   "cell_type": "code",
   "execution_count": 52,
   "metadata": {},
   "outputs": [
    {
     "data": {
      "text/plain": [
       "array([3, 3, 2, ..., 2, 2, 2], dtype=int64)"
      ]
     },
     "execution_count": 52,
     "metadata": {},
     "output_type": "execute_result"
    }
   ],
   "source": [
    "xgb_predict"
   ]
  },
  {
   "cell_type": "markdown",
   "metadata": {},
   "source": [
    "生成测试结果提交文件"
   ]
  },
  {
   "cell_type": "code",
   "execution_count": 53,
   "metadata": {},
   "outputs": [
    {
     "data": {
      "text/html": [
       "<div>\n",
       "<style scoped>\n",
       "    .dataframe tbody tr th:only-of-type {\n",
       "        vertical-align: middle;\n",
       "    }\n",
       "\n",
       "    .dataframe tbody tr th {\n",
       "        vertical-align: top;\n",
       "    }\n",
       "\n",
       "    .dataframe thead th {\n",
       "        text-align: right;\n",
       "    }\n",
       "</style>\n",
       "<table border=\"1\" class=\"dataframe\">\n",
       "  <thead>\n",
       "    <tr style=\"text-align: right;\">\n",
       "      <th></th>\n",
       "      <th>PhraseId</th>\n",
       "      <th>Sentiment</th>\n",
       "    </tr>\n",
       "  </thead>\n",
       "  <tbody>\n",
       "    <tr>\n",
       "      <th>0</th>\n",
       "      <td>156061</td>\n",
       "      <td>3</td>\n",
       "    </tr>\n",
       "    <tr>\n",
       "      <th>1</th>\n",
       "      <td>156062</td>\n",
       "      <td>3</td>\n",
       "    </tr>\n",
       "    <tr>\n",
       "      <th>2</th>\n",
       "      <td>156063</td>\n",
       "      <td>2</td>\n",
       "    </tr>\n",
       "    <tr>\n",
       "      <th>3</th>\n",
       "      <td>156064</td>\n",
       "      <td>3</td>\n",
       "    </tr>\n",
       "    <tr>\n",
       "      <th>4</th>\n",
       "      <td>156065</td>\n",
       "      <td>3</td>\n",
       "    </tr>\n",
       "    <tr>\n",
       "      <th>...</th>\n",
       "      <td>...</td>\n",
       "      <td>...</td>\n",
       "    </tr>\n",
       "    <tr>\n",
       "      <th>66287</th>\n",
       "      <td>222348</td>\n",
       "      <td>1</td>\n",
       "    </tr>\n",
       "    <tr>\n",
       "      <th>66288</th>\n",
       "      <td>222349</td>\n",
       "      <td>1</td>\n",
       "    </tr>\n",
       "    <tr>\n",
       "      <th>66289</th>\n",
       "      <td>222350</td>\n",
       "      <td>2</td>\n",
       "    </tr>\n",
       "    <tr>\n",
       "      <th>66290</th>\n",
       "      <td>222351</td>\n",
       "      <td>2</td>\n",
       "    </tr>\n",
       "    <tr>\n",
       "      <th>66291</th>\n",
       "      <td>222352</td>\n",
       "      <td>2</td>\n",
       "    </tr>\n",
       "  </tbody>\n",
       "</table>\n",
       "<p>66292 rows × 2 columns</p>\n",
       "</div>"
      ],
      "text/plain": [
       "       PhraseId  Sentiment\n",
       "0        156061          3\n",
       "1        156062          3\n",
       "2        156063          2\n",
       "3        156064          3\n",
       "4        156065          3\n",
       "...         ...        ...\n",
       "66287    222348          1\n",
       "66288    222349          1\n",
       "66289    222350          2\n",
       "66290    222351          2\n",
       "66291    222352          2\n",
       "\n",
       "[66292 rows x 2 columns]"
      ]
     },
     "execution_count": 53,
     "metadata": {},
     "output_type": "execute_result"
    }
   ],
   "source": [
    "submission_file =pd.read_csv(\"E:\\course\\大三秋\\数据科学导引\\input\\sampleSubmission.csv\",sep=',')\n",
    "submission_file['Sentiment']=xgb_predict\n",
    "submission_file"
   ]
  },
  {
   "cell_type": "code",
   "execution_count": 54,
   "metadata": {},
   "outputs": [],
   "source": [
    "submission_file.to_csv('Submission_XGB.csv',index=False)"
   ]
  },
  {
   "cell_type": "markdown",
   "metadata": {},
   "source": [
    "在kaggle上提交Submission_XGB.csv，XGBoost模型的预测准确率为0.61932"
   ]
  }
 ],
 "metadata": {
  "kernelspec": {
   "display_name": "jupyter",
   "language": "python",
   "name": "python3"
  },
  "language_info": {
   "codemirror_mode": {
    "name": "ipython",
    "version": 3
   },
   "file_extension": ".py",
   "mimetype": "text/x-python",
   "name": "python",
   "nbconvert_exporter": "python",
   "pygments_lexer": "ipython3",
   "version": "3.11.5"
  }
 },
 "nbformat": 4,
 "nbformat_minor": 2
}
